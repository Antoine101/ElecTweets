{
 "cells": [
  {
   "cell_type": "code",
   "execution_count": 1,
   "id": "2d0ed1b7",
   "metadata": {},
   "outputs": [],
   "source": [
    "import csv\n",
    "import psycopg2"
   ]
  },
  {
   "cell_type": "code",
   "execution_count": 2,
   "id": "61d50fc0",
   "metadata": {},
   "outputs": [],
   "source": [
    "# Create a connection to the database\n",
    "conn = psycopg2.connect(dbname=\"Twitter-Elections\", user=\"postgres\", host=\"localhost\", port=\"5432\")\n",
    "\n",
    "# Create a cursor to perform database operations\n",
    "cur = conn.cursor()"
   ]
  },
  {
   "cell_type": "code",
   "execution_count": 3,
   "id": "4de7f160",
   "metadata": {},
   "outputs": [
    {
     "data": {
      "text/plain": [
       "[('candidats',),\n",
       " ('tweets',),\n",
       " ('affiliation_elections',),\n",
       " ('contexte_elections',),\n",
       " ('denomination_partis',),\n",
       " ('tweets_tags',),\n",
       " ('tags',)]"
      ]
     },
     "execution_count": 3,
     "metadata": {},
     "output_type": "execute_result"
    }
   ],
   "source": [
    "# Get all the tables names\n",
    "cur.execute(\"\"\"\n",
    "        SELECT table_name\n",
    "        FROM information_schema.tables\n",
    "        WHERE table_schema='public'\n",
    "        AND table_type='BASE TABLE';\n",
    "   \"\"\")\n",
    "\n",
    "cur.fetchall()"
   ]
  },
  {
   "cell_type": "code",
   "execution_count": 22,
   "id": "d4159c4b",
   "metadata": {},
   "outputs": [],
   "source": [
    "# Insert data from a csv file\n",
    "with open(\"candidats.csv\", \"r\") as f:\n",
    "    reader = csv.reader(f, delimiter=\";\")\n",
    "    headers = next(reader, None)\n",
    "    for row in reader:\n",
    "        cur.execute(\"INSERT INTO candidats (prenom, nom) VALUES (%s, %s)\", row[:2])\n",
    "        \n",
    "cur.commit()"
   ]
  },
  {
   "cell_type": "code",
   "execution_count": 23,
   "id": "8dfc1ea6",
   "metadata": {},
   "outputs": [
    {
     "data": {
      "text/plain": [
       "[(1, 'Sandrine', 'Adobati', None, None, None, None, None, None),\n",
       " (2, 'Marie-Josee', 'Boulaire', None, None, None, None, None, None),\n",
       " (3, 'Arnaud', 'Charvillat', None, None, None, None, None, None),\n",
       " (4, 'François-Marie', 'Didier', None, None, None, None, None, None),\n",
       " (5, 'Lamia', 'El Aaraje', None, None, None, None, None, None),\n",
       " (6, 'Mohamad-Lamine', 'Gassama', None, None, None, None, None, None),\n",
       " (7, 'Philippe', 'Houplain', None, None, None, None, None, None),\n",
       " (8, 'Danielle', 'Simonnet', None, None, None, None, None, None),\n",
       " (9, 'Apolline', 'Tyburczy', None, None, None, None, None, None),\n",
       " (10, 'Christophe', 'Versini', None, None, None, None, None, None),\n",
       " (11, 'Hélène', 'Testud', None, None, None, None, None, None),\n",
       " (12, 'Adil', 'Touaimia-Kabbouch', None, None, None, None, None, None),\n",
       " (13, 'Florence', 'Castillon', None, None, None, None, None, None),\n",
       " (14, 'Hicham', 'Fassi Fihri', None, None, None, None, None, None),\n",
       " (15, 'Hervé', 'Masnyou', None, None, None, None, None, None),\n",
       " (16, 'Mehdi', 'Kemoune', None, None, None, None, None, None),\n",
       " (17, 'Roger', 'Domard', None, None, None, None, None, None),\n",
       " (18, 'Olivier', 'Cohen', None, None, None, None, None, None),\n",
       " (19, 'Jean-Philippe', 'Renau', None, None, None, None, None, None),\n",
       " (20, 'Atanase', 'Périfan', None, None, None, None, None, None),\n",
       " (21, 'Antoinette', 'Guhl', None, None, None, None, None, None),\n",
       " (22, 'George', 'Pau-Langevin', None, None, None, None, None, None),\n",
       " (23, 'Nina', 'Abdoulhamidi', None, None, None, None, None, None),\n",
       " (24, 'Philippe', 'Aragon', None, None, None, None, None, None),\n",
       " (25, 'Dalila', 'Lasfar', None, None, None, None, None, None),\n",
       " (26, 'Arnaud', 'Charvillat', None, None, None, None, None, None),\n",
       " (27, 'Didier', 'Chabaillé', None, None, None, None, None, None),\n",
       " (28, 'Jacques', 'Baudrier', None, None, None, None, None, None),\n",
       " (29, 'Ariane', 'Dreyfus', None, None, None, None, None, None),\n",
       " (30, 'Colette', 'Anglada', None, None, None, None, None, None),\n",
       " (31, 'Julien', 'Volganli', None, None, None, None, None, None),\n",
       " (32, 'Arnaud', 'Volganli', None, None, None, None, None, None),\n",
       " (33, 'Nancy', 'Verdier', None, None, None, None, None, None),\n",
       " (34, 'Hacen', 'Mohammedi', None, None, None, None, None, None),\n",
       " (35, 'Abbès', 'Benaissa', None, None, None, None, None, None),\n",
       " (36, 'Arlette', 'Zilberg', None, None, None, None, None, None),\n",
       " (37, 'Sonia', 'Ouertani', None, None, None, None, None, None),\n",
       " (38, 'Elisabeth', 'Jaskulke', None, None, None, None, None, None),\n",
       " (39, 'Nathalie', 'Fanfant', None, None, None, None, None, None),\n",
       " (40, 'Pénélope', 'Duggan', None, None, None, None, None, None),\n",
       " (41, 'Geneviève', 'Beduneau', None, None, None, None, None, None),\n",
       " (42, 'Didier', 'Le Reste', None, None, None, None, None, None),\n",
       " (43, 'Pierre', 'Mounier', None, None, None, None, None, None),\n",
       " (44, 'Claude', 'Trannet', None, None, None, None, None, None)]"
      ]
     },
     "execution_count": 23,
     "metadata": {},
     "output_type": "execute_result"
    }
   ],
   "source": [
    "# Check table after insert\n",
    "cur.execute(\"SELECT * FROM candidats\")\n",
    "cur.fetchall()"
   ]
  },
  {
   "cell_type": "code",
   "execution_count": 24,
   "id": "8b0d9de5",
   "metadata": {},
   "outputs": [],
   "source": [
    "# Closing of of cursor and connection\n",
    "cur.close()\n",
    "conn.close()"
   ]
  }
 ],
 "metadata": {
  "kernelspec": {
   "display_name": "Python 3.10 (base)",
   "language": "python",
   "name": "base"
  },
  "language_info": {
   "codemirror_mode": {
    "name": "ipython",
    "version": 3
   },
   "file_extension": ".py",
   "mimetype": "text/x-python",
   "name": "python",
   "nbconvert_exporter": "python",
   "pygments_lexer": "ipython3",
   "version": "3.9.11"
  }
 },
 "nbformat": 4,
 "nbformat_minor": 5
}
